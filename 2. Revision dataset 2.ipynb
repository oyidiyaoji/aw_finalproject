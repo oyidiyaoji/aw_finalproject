{
 "cells": [
  {
   "cell_type": "markdown",
   "metadata": {},
   "source": [
    "# Dataset no. 2: Revision \n",
    "\n",
    "To start with the project I analysed the 3 datasets separately in order to reduce as much as I can the number of variables contained in each dataset. This is the analysis for dataset no. 2 which is the information regarding country and region of the MFIs listed on dataset no. 1.\n",
    "\n",
    "\n",
    "Index:\n",
    "\n",
    "<a class=\"anchor\" id=\"index\"></a>\n",
    "\n",
    "1. [Importing the datasets - First check](#1)\n",
    "2. [Missing values](#2)\n",
    "3. [Extraction of useful information](#3)"
   ]
  },
  {
   "cell_type": "code",
   "execution_count": 1,
   "metadata": {},
   "outputs": [],
   "source": [
    "import pandas as pd \n",
    "import matplotlib.pyplot as plt\n",
    "import seaborn as sns\n",
    "import numpy as np\n",
    "from plotly.offline import init_notebook_mode, iplot, plot\n",
    "import plotly as py\n",
    "import plotly.graph_objs as go"
   ]
  },
  {
   "cell_type": "markdown",
   "metadata": {},
   "source": [
    "## 1. Importing the datasets - First check\n",
    "<a class=\"anchor\" id=\"1\"></a>\n",
    "\n",
    "[^Index](#index)"
   ]
  },
  {
   "cell_type": "code",
   "execution_count": 2,
   "metadata": {},
   "outputs": [],
   "source": [
    "data = pd.read_csv('/home/user/Documents/OYI_PC_2and3/TRABAJO/Allwomen/Projects/Final Project/csv_datasets/mfi-company-metadata.csv')"
   ]
  },
  {
   "cell_type": "code",
   "execution_count": 3,
   "metadata": {},
   "outputs": [
    {
     "data": {
      "text/html": [
       "<div>\n",
       "<style scoped>\n",
       "    .dataframe tbody tr th:only-of-type {\n",
       "        vertical-align: middle;\n",
       "    }\n",
       "\n",
       "    .dataframe tbody tr th {\n",
       "        vertical-align: top;\n",
       "    }\n",
       "\n",
       "    .dataframe thead th {\n",
       "        text-align: right;\n",
       "    }\n",
       "</style>\n",
       "<table border=\"1\" class=\"dataframe\">\n",
       "  <thead>\n",
       "    <tr style=\"text-align: right;\">\n",
       "      <th></th>\n",
       "      <th>MFI ID</th>\n",
       "      <th>MFI Name</th>\n",
       "      <th>MFI Full Name</th>\n",
       "      <th>Country</th>\n",
       "      <th>Region</th>\n",
       "    </tr>\n",
       "  </thead>\n",
       "  <tbody>\n",
       "    <tr>\n",
       "      <th>0</th>\n",
       "      <td>100372</td>\n",
       "      <td>1st Valley Bank</td>\n",
       "      <td>1st Valley Bank (formerly Rural Bank of Kapata...</td>\n",
       "      <td>Philippines</td>\n",
       "      <td>East Asia and the Pacific</td>\n",
       "    </tr>\n",
       "    <tr>\n",
       "      <th>1</th>\n",
       "      <td>100256</td>\n",
       "      <td>2CM</td>\n",
       "      <td>Cercle Communautaire Mieux</td>\n",
       "      <td>Benin</td>\n",
       "      <td>Africa</td>\n",
       "    </tr>\n",
       "    <tr>\n",
       "      <th>2</th>\n",
       "      <td>101922</td>\n",
       "      <td>3A Entreprises</td>\n",
       "      <td>3A Entreprises</td>\n",
       "      <td>Guinea</td>\n",
       "      <td>Africa</td>\n",
       "    </tr>\n",
       "    <tr>\n",
       "      <th>3</th>\n",
       "      <td>170594</td>\n",
       "      <td>3PAD Fund Bac Kan</td>\n",
       "      <td>3PAD Fund for Bac Kan's Women</td>\n",
       "      <td>Vietnam</td>\n",
       "      <td>East Asia and the Pacific</td>\n",
       "    </tr>\n",
       "    <tr>\n",
       "      <th>4</th>\n",
       "      <td>104283</td>\n",
       "      <td>A3C</td>\n",
       "      <td>Association des CVECA et CECA du Centre</td>\n",
       "      <td>Cameroon</td>\n",
       "      <td>Africa</td>\n",
       "    </tr>\n",
       "  </tbody>\n",
       "</table>\n",
       "</div>"
      ],
      "text/plain": [
       "   MFI ID           MFI Name  \\\n",
       "0  100372    1st Valley Bank   \n",
       "1  100256                2CM   \n",
       "2  101922     3A Entreprises   \n",
       "3  170594  3PAD Fund Bac Kan   \n",
       "4  104283                A3C   \n",
       "\n",
       "                                       MFI Full Name      Country  \\\n",
       "0  1st Valley Bank (formerly Rural Bank of Kapata...  Philippines   \n",
       "1                         Cercle Communautaire Mieux        Benin   \n",
       "2                                     3A Entreprises       Guinea   \n",
       "3                      3PAD Fund for Bac Kan's Women      Vietnam   \n",
       "4            Association des CVECA et CECA du Centre     Cameroon   \n",
       "\n",
       "                      Region  \n",
       "0  East Asia and the Pacific  \n",
       "1                     Africa  \n",
       "2                     Africa  \n",
       "3  East Asia and the Pacific  \n",
       "4                     Africa  "
      ]
     },
     "execution_count": 3,
     "metadata": {},
     "output_type": "execute_result"
    }
   ],
   "source": [
    "data.head()"
   ]
  },
  {
   "cell_type": "code",
   "execution_count": 4,
   "metadata": {},
   "outputs": [],
   "source": [
    "#I remove unnecessary colums:\n",
    "\n",
    "data.drop(columns=['MFI ID', 'MFI Full Name'],axis=1,inplace=True)"
   ]
  },
  {
   "cell_type": "code",
   "execution_count": 5,
   "metadata": {},
   "outputs": [
    {
     "name": "stdout",
     "output_type": "stream",
     "text": [
      "<class 'pandas.core.frame.DataFrame'>\n",
      "RangeIndex: 3114 entries, 0 to 3113\n",
      "Data columns (total 3 columns):\n",
      " #   Column    Non-Null Count  Dtype \n",
      "---  ------    --------------  ----- \n",
      " 0   MFI Name  3114 non-null   object\n",
      " 1   Country   3114 non-null   object\n",
      " 2   Region    3114 non-null   object\n",
      "dtypes: object(3)\n",
      "memory usage: 73.1+ KB\n"
     ]
    }
   ],
   "source": [
    "data.info()"
   ]
  },
  {
   "cell_type": "code",
   "execution_count": 6,
   "metadata": {},
   "outputs": [
    {
     "data": {
      "text/html": [
       "<div>\n",
       "<style scoped>\n",
       "    .dataframe tbody tr th:only-of-type {\n",
       "        vertical-align: middle;\n",
       "    }\n",
       "\n",
       "    .dataframe tbody tr th {\n",
       "        vertical-align: top;\n",
       "    }\n",
       "\n",
       "    .dataframe thead th {\n",
       "        text-align: right;\n",
       "    }\n",
       "</style>\n",
       "<table border=\"1\" class=\"dataframe\">\n",
       "  <thead>\n",
       "    <tr style=\"text-align: right;\">\n",
       "      <th></th>\n",
       "      <th>MFI Name</th>\n",
       "      <th>Country</th>\n",
       "      <th>Region</th>\n",
       "    </tr>\n",
       "  </thead>\n",
       "  <tbody>\n",
       "    <tr>\n",
       "      <th>count</th>\n",
       "      <td>3114</td>\n",
       "      <td>3114</td>\n",
       "      <td>3114</td>\n",
       "    </tr>\n",
       "    <tr>\n",
       "      <th>unique</th>\n",
       "      <td>3113</td>\n",
       "      <td>123</td>\n",
       "      <td>7</td>\n",
       "    </tr>\n",
       "    <tr>\n",
       "      <th>top</th>\n",
       "      <td>MBC</td>\n",
       "      <td>India</td>\n",
       "      <td>Africa</td>\n",
       "    </tr>\n",
       "    <tr>\n",
       "      <th>freq</th>\n",
       "      <td>2</td>\n",
       "      <td>250</td>\n",
       "      <td>879</td>\n",
       "    </tr>\n",
       "  </tbody>\n",
       "</table>\n",
       "</div>"
      ],
      "text/plain": [
       "       MFI Name Country  Region\n",
       "count      3114    3114    3114\n",
       "unique     3113     123       7\n",
       "top         MBC   India  Africa\n",
       "freq          2     250     879"
      ]
     },
     "execution_count": 6,
     "metadata": {},
     "output_type": "execute_result"
    }
   ],
   "source": [
    "#I use the describe method in order see how the dataset looks like. Seems there's one MFI that is repeated \n",
    "#2 times. This problem will be solved in further notebooks.\n",
    "\n",
    "data.describe()"
   ]
  },
  {
   "cell_type": "markdown",
   "metadata": {},
   "source": [
    "## 2. Missing values\n",
    "<a class=\"anchor\" id=\"2\"></a>\n",
    "\n",
    "[^Index](#index)"
   ]
  },
  {
   "cell_type": "code",
   "execution_count": 7,
   "metadata": {},
   "outputs": [
    {
     "data": {
      "image/png": "[encoded data removed]",
      "text/plain": [
       "<Figure size 842.4x595.44 with 2 Axes>"
      ]
     },
     "metadata": {},
     "output_type": "display_data"
    }
   ],
   "source": [
    "#There are no missing values in this dataset\n",
    "\n",
    "sns.set(rc={'figure.figsize':(11.7, 8.27)})\n",
    "sns.heatmap(data.isnull(), yticklabels=False, cbar=True, cmap='viridis')\n",
    "plt.show()"
   ]
  },
  {
   "cell_type": "markdown",
   "metadata": {},
   "source": [
    "## 3. Extraction of useful information\n",
    "<a class=\"anchor\" id=\"3\"></a>\n",
    "\n",
    "[^Index](#index)"
   ]
  },
  {
   "cell_type": "code",
   "execution_count": 10,
   "metadata": {},
   "outputs": [
    {
     "data": {
      "text/plain": [
       "123"
      ]
     },
     "execution_count": 10,
     "metadata": {},
     "output_type": "execute_result"
    }
   ],
   "source": [
    "#The dataset contains information from 123 different countries\n",
    "\n",
    "data.Country.nunique()"
   ]
  },
  {
   "cell_type": "code",
   "execution_count": 11,
   "metadata": {},
   "outputs": [
    {
     "data": {
      "text/plain": [
       "7"
      ]
     },
     "execution_count": 11,
     "metadata": {},
     "output_type": "execute_result"
    }
   ],
   "source": [
    "#The dataset contains information from 7 different regions\n",
    "\n",
    "data.Region.nunique()"
   ]
  },
  {
   "cell_type": "code",
   "execution_count": 8,
   "metadata": {},
   "outputs": [],
   "source": [
    "data.to_csv('/home/user/Documents/OYI_PC_2and3/TRABAJO/Allwomen/Projects/Final Project/csv_datasets/reduced_datasets/mfi_location.csv')"
   ]
  },
  {
   "cell_type": "code",
   "execution_count": null,
   "metadata": {},
   "outputs": [],
   "source": []
  }
 ],
 "metadata": {
  "kernelspec": {
   "display_name": "Python 3",
   "language": "python",
   "name": "python3"
  },
  "language_info": {
   "codemirror_mode": {
    "name": "ipython",
    "version": 3
   },
   "file_extension": ".py",
   "mimetype": "text/x-python",
   "name": "python",
   "nbconvert_exporter": "python",
   "pygments_lexer": "ipython3",
   "version": "3.7.6"
  }
 },
 "nbformat": 4,
 "nbformat_minor": 4
}
